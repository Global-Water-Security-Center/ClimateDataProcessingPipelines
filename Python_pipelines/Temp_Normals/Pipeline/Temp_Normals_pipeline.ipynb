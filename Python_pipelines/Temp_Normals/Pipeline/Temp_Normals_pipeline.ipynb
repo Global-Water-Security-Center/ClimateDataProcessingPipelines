{
  "nbformat": 4,
  "nbformat_minor": 0,
  "metadata": {
    "colab": {
      "provenance": []
    },
    "kernelspec": {
      "name": "python3",
      "display_name": "Python 3"
    },
    "language_info": {
      "name": "python"
    }
  },
  "cells": [
    {
      "cell_type": "markdown",
      "source": [
        "**INSTALLING THE RASTERIO MODULE**"
      ],
      "metadata": {
        "id": "wJ4uh3yT_DXy"
      }
    },
    {
      "cell_type": "code",
      "execution_count": null,
      "metadata": {
        "id": "Elfx17R_jPIL"
      },
      "outputs": [],
      "source": [
        "!pip install rasterio"
      ]
    },
    {
      "cell_type": "markdown",
      "source": [
        "**LOADING THE NECESSARY PACKAGES**\n",
        "\n",
        "**geopandas (imported as gpd)**: A Python library used for working with geospatial data. It extends the functionalities of pandas, allowing us to work with geospatial data in GeoDataFrame structures, which are like pandas DataFrames but with additional geospatial capabilities. In this script, it's used to read, manipulate, and analyze geospatial data from shapefiles.\n",
        "\n",
        "**ee (Earth Engine):** This is the Google Earth Engine library, which provides access to a massive catalog of satellite imagery and geospatial datasets. It's used for advanced geospatial data processing and analysis tasks, particularly working with satellite data and performing large-scale, cloud-based analysis.\n",
        "\n",
        "**pandas (imported as pd):** A foundational library for data manipulation and analysis in Python, offering powerful data structures like DataFrames. It's widely used for data cleaning, transformation, and analysis tasks. In this script, it might be used for handling non-geospatial data processing tasks or in conjunction with geopandas for certain operations.\n",
        "\n",
        "**os: **This is a standard Python library that provides a way of using operating system dependent functionality like reading, writing, and manipulating paths and files. In geospatial scripts, it's often used for file path manipulations and directory operations.\n",
        "\n",
        "**rasterio:** A library for reading and writing raster datasets (like GeoTIFFs). It's often used in geospatial data processing for working with raster data, which includes satellite imagery and other grid-based data formats.\n",
        "\n",
        "**shapely:** A library for manipulation and analysis of planar geometric objects. It is primarily used in Python for spatial analysis and geometric operations, like calculating areas, distances, intersections, and unions of geospatial objects.\n",
        "\n",
        "**geemap:** A Python package for interactive mapping with Google Earth Engine (GEE), which integrates GEE with IPython and Jupyter notebook. It's used to facilitate mapping and visualization of geospatial data processed with GEE, and can also provide additional functionalities for exporting data from GEE."
      ],
      "metadata": {
        "id": "XtbPeSqW_Kdl"
      }
    },
    {
      "cell_type": "code",
      "source": [
        "import geopandas as gpd\n",
        "import ee\n",
        "import pandas as pd\n",
        "import os\n",
        "import rasterio\n",
        "import shapely\n",
        "import geemap"
      ],
      "metadata": {
        "id": "9D_D7JA5jr7M"
      },
      "execution_count": 2,
      "outputs": []
    },
    {
      "cell_type": "markdown",
      "source": [
        "**AUTHENTICATING EARTH ENGINE**"
      ],
      "metadata": {
        "id": "TfZRrbPMATu_"
      }
    },
    {
      "cell_type": "code",
      "source": [
        "ee.Authenticate()\n"
      ],
      "metadata": {
        "id": "o8KQio2ykEF1"
      },
      "execution_count": null,
      "outputs": []
    },
    {
      "cell_type": "markdown",
      "source": [
        "**INITIALIZING EARTH ENGINE**"
      ],
      "metadata": {
        "id": "CeKnD5BWAb0A"
      }
    },
    {
      "cell_type": "code",
      "source": [
        "ee.Initialize()"
      ],
      "metadata": {
        "colab": {
          "base_uri": "https://localhost:8080/",
          "height": 17
        },
        "id": "dLDTVupSkjLp",
        "outputId": "2bfcc7e6-f266-450d-893c-0d74d3cb0d1c"
      },
      "execution_count": 4,
      "outputs": [
        {
          "output_type": "display_data",
          "data": {
            "text/plain": [
              "<IPython.core.display.HTML object>"
            ],
            "text/html": [
              "\n",
              "            <style>\n",
              "                .geemap-dark {\n",
              "                    --jp-widgets-color: white;\n",
              "                    --jp-widgets-label-color: white;\n",
              "                    --jp-ui-font-color1: white;\n",
              "                    --jp-layout-color2: #454545;\n",
              "                    background-color: #383838;\n",
              "                }\n",
              "                    \n",
              "                .geemap-dark .jupyter-button {\n",
              "                    --jp-layout-color3: #383838;\n",
              "                }\n",
              "                \n",
              "                .geemap-colab {\n",
              "                    background-color: var(--colab-primary-surface-color, white);\n",
              "                }\n",
              "                    \n",
              "                .geemap-colab .jupyter-button {\n",
              "                    --jp-layout-color3: var(--colab-primary-surface-color, white);\n",
              "                }\n",
              "            </style>\n",
              "            "
            ]
          },
          "metadata": {}
        }
      ]
    },
    {
      "cell_type": "markdown",
      "source": [
        "**Function Name: earth_engine_calculate_normals**\n",
        "\n",
        "**Purpose:** This function calculates the monthly average (normals) of a specified band from a satellite dataset within a given region of interest (ROI) over a specified time period. It exports these averages as GeoTiff files.\n",
        "\n",
        "**Parameters:**\n",
        "\n",
        "**dataset:** The name or ID of the satellite image collection from Google Earth Engine (e.g., a specific satellite dataset).\n",
        "\n",
        "**start_date:** The start date for the data collection period (string format expected, e.g., 'YYYY-MM-DD').\n",
        "\n",
        "**end_date:** The end date for the data collection period (string format).\n",
        "\n",
        "**band_name:** The name of the specific band in the satellite dataset to be analyzed.\n",
        "\n",
        "**roi (Region of Interest):** A ee.Geometry object defining the geographical area for which the data is to be processed.\n",
        "\n",
        "**output_dir:** The directory path where the exported GeoTiff files will be saved.\n",
        "\n",
        "**scale:** The scale in meters for the exported images, which determines the pixel resolution.\n",
        "\n",
        "**Process:**\n",
        "\n",
        "1) The function loads the specified image collection from Earth Engine, filtering it by the given dates, band, and geographical bounds.\n",
        "\n",
        "2) It calculates the average value of the specified band for each month across all years in the given date range.\n",
        "\n",
        "3) These monthly averages are then exported as GeoTiff files, one for each month, to the specified output directory.\n",
        "\n",
        "**Output:**\n",
        "\n",
        "The function returns a list of file paths, each corresponding to an exported GeoTiff file containing the monthly average for the specified band. The files are named in the format Normal_{month}.tif, where {month} is the month number (1 to 12).\n",
        "\n",
        "**Usage Notes:**\n",
        "\n",
        "Ensure that the Google Earth Engine Python API is authenticated and initialized in your environment before using this function.\n",
        "\n",
        "The output_dir should have write permissions, and the function will append a '/' if not already present at the end of the path to correctly format the file paths.\n",
        "\n",
        "The function prints a message to the console each time a file is successfully exported."
      ],
      "metadata": {
        "id": "7iz1gw0xBgFe"
      }
    },
    {
      "cell_type": "code",
      "source": [
        "def earth_engine_calculate_normals(dataset, start_date, end_date, band_name, roi, output_dir, scale):\n",
        "    # Load in the dataset and filter it based on given parameters\n",
        "    dataset = ee.ImageCollection(dataset).filterDate(start_date, end_date).select(band_name).filterBounds(roi)\n",
        "\n",
        "    # Preparing a dictionary to hold the monthly normals\n",
        "    monthly_normals = {}\n",
        "\n",
        "    # Loop through each month\n",
        "    for month in range(1, 13):\n",
        "        # Filter the dataset for the specific month across all years\n",
        "        month_filter = ee.Filter.calendarRange(month, month, 'month')\n",
        "        monthly_data = dataset.filter(month_filter)\n",
        "\n",
        "        # Compute the average for this month across all years\n",
        "        monthly_avg = monthly_data.mean()\n",
        "\n",
        "        # Store the result in the dictionary\n",
        "        monthly_normals[month] = monthly_avg\n",
        "\n",
        "    # Initialize the list to store exported file paths\n",
        "    monthly_normals_export_list = []\n",
        "\n",
        "    # Ensure the output directory ends with a slash\n",
        "    if not output_dir.endswith('/'):\n",
        "        output_dir += '/'\n",
        "\n",
        "    for month, image in monthly_normals.items():\n",
        "        # Construct the output path\n",
        "        out_path = f'{output_dir}Normal_{month}.tif'\n",
        "\n",
        "        # Export the image using geemap's export function\n",
        "        geemap.ee_export_image(image, filename=out_path, scale=scale, region=roi, file_per_band=False)\n",
        "\n",
        "        # Append the output path to the list\n",
        "        monthly_normals_export_list.append(out_path)\n",
        "        print(f'Exported Normal_{month}.tif')\n",
        "\n",
        "    return monthly_normals_export_list\n",
        "\n",
        "\n",
        "\n"
      ],
      "metadata": {
        "id": "yTUov9tOlTWI",
        "colab": {
          "base_uri": "https://localhost:8080/",
          "height": 17
        },
        "outputId": "a80ccf46-9798-43ba-c234-abf92a99eef6"
      },
      "execution_count": 7,
      "outputs": [
        {
          "output_type": "display_data",
          "data": {
            "text/plain": [
              "<IPython.core.display.HTML object>"
            ],
            "text/html": [
              "\n",
              "            <style>\n",
              "                .geemap-dark {\n",
              "                    --jp-widgets-color: white;\n",
              "                    --jp-widgets-label-color: white;\n",
              "                    --jp-ui-font-color1: white;\n",
              "                    --jp-layout-color2: #454545;\n",
              "                    background-color: #383838;\n",
              "                }\n",
              "                    \n",
              "                .geemap-dark .jupyter-button {\n",
              "                    --jp-layout-color3: #383838;\n",
              "                }\n",
              "                \n",
              "                .geemap-colab {\n",
              "                    background-color: var(--colab-primary-surface-color, white);\n",
              "                }\n",
              "                    \n",
              "                .geemap-colab .jupyter-button {\n",
              "                    --jp-layout-color3: var(--colab-primary-surface-color, white);\n",
              "                }\n",
              "            </style>\n",
              "            "
            ]
          },
          "metadata": {}
        }
      ]
    },
    {
      "cell_type": "markdown",
      "source": [
        "**Function Name: main**\n",
        "\n",
        "**Purpose:** This function serves as the primary entry point for a script that processes and analyzes geospatial data. It reads a shapefile to determine a region of interest (ROI), extracts the bounding box of this region, and then uses this ROI to calculate monthly normals for a specific dataset and band within the specified time period. The results are exported as GeoTiff files.\n",
        "\n",
        "**Process:**\n",
        "\n",
        "**Read Shapefile: **The function begins by reading a shapefile (containing geographical data) using GeoPandas.\n",
        "\n",
        "**Coordinate Reference System Transformation:** It then transforms the GeoDataFrame to the EPSG:4326 coordinate reference system for standardized latitude and longitude coordinates.\n",
        "Filter GeoDataFrame: The function filters the GeoDataFrame to include only the features with a specific attribute ('USSOUTHCOM' in the 'cocom' column).\n",
        "\n",
        "**Combine Geometries:** All geometries in the filtered GeoDataFrame are combined into a single unified geometry.\n",
        "\n",
        "**Calculate Bounding Box:** The bounding box (geographical bounds) of this combined geometry is calculated.\n",
        "\n",
        "**Create Earth Engine Geometry: **An Earth Engine Rectangle geometry is created using the bounding box coordinates. This defines the ROI for the Earth Engine data processing.\n",
        "\n",
        "**Set Parameters for Data Processing:** The function defines various parameters including the dataset, start and end dates, band name, ROI, output directory, and scale.\n",
        "\n",
        "**Call earth_engine_calculate_normals Function:** These parameters are passed to the earth_engine_calculate_normals function to calculate the monthly normals and export them as GeoTiff files.\n",
        "\n",
        "**Output Information: **After processing, the function prints the paths of the exported files.\n",
        "\n",
        "**Parameters:**\n",
        "\n",
        "The function does not take any parameters but relies on hard-coded values within its scope. These include file paths, dataset identifiers, date ranges, and other specific settings related to the geospatial analysis.\n",
        "\n",
        "**Outputs:**\n",
        "\n",
        "Prints the file paths of the exported GeoTiff files to the console.\n",
        "\n",
        "**Usage Notes:**\n",
        "\n",
        "Ensure all necessary libraries (geopandas, ee, etc.) are installed and properly configured.\n",
        "The shapefile path and other parameters like dataset name, band name, and output directory should be modified according to the user's specific requirements.\n",
        "\n",
        "The script should be executed in an environment where the Google Earth Engine API is authenticated."
      ],
      "metadata": {
        "id": "H7VCD1Q7DoZV"
      }
    },
    {
      "cell_type": "code",
      "source": [
        "def main():\n",
        "    # Read the shapefile\n",
        "    gdf = gpd.read_file('/content/drive/MyDrive/COM_shapefiles/cocoms.shp')\n",
        "\n",
        "    # Transform the GeoDataFrame to EPSG:4326\n",
        "    gdf = gdf.to_crs(epsg=4326)\n",
        "\n",
        "    # Load and filter your GeoDataFrame\n",
        "    filtered_gdf = gdf[gdf['cocom'] == 'USSOUTHCOM']\n",
        "\n",
        "    # Combine all geometries into a single geometry\n",
        "    combined_geom = filtered_gdf.geometry.unary_union\n",
        "\n",
        "    # Get the bounding box of the combined geometry\n",
        "    minx, miny, maxx, maxy = combined_geom.bounds\n",
        "\n",
        "    # Create an Earth Engine Geometry for the bounding box\n",
        "    roi = ee.Geometry.Rectangle([minx, miny, maxx, maxy])\n",
        "\n",
        "    # Define other parameters for the earth_engine_calculate_normals function\n",
        "    dataset = 'ECMWF/ERA5/MONTHLY'\n",
        "    start_date = '1990-01-01' ### Define start date\n",
        "    end_date = '2019-12-01' ## Define the end date\n",
        "    band_name = 'mean_2m_air_temperature' # Define the band of interest\n",
        "    roi = roi ## region of interest\n",
        "    output_dir = '/content/drive/MyDrive/ERA_monthly_normals/'\n",
        "    scale = 27830 ## this is in metres\n",
        "\n",
        "    # Call the earth_engine_calculate_normals function\n",
        "    exported_files = earth_engine_calculate_normals(dataset, start_date, end_date, band_name, roi, output_dir, scale)\n",
        "\n",
        "    # Optionally, do something with the returned list of exported files\n",
        "    print(\"Exported files:\", exported_files)\n",
        "\n",
        "# Call the main function\n",
        "if __name__ == \"__main__\":\n",
        "    main()"
      ],
      "metadata": {
        "colab": {
          "base_uri": "https://localhost:8080/",
          "height": 1000
        },
        "id": "OGtM_fx0-X3k",
        "outputId": "b013c3f1-55a1-4cbb-f4cf-2092204e2e87"
      },
      "execution_count": 9,
      "outputs": [
        {
          "output_type": "display_data",
          "data": {
            "text/plain": [
              "<IPython.core.display.HTML object>"
            ],
            "text/html": [
              "\n",
              "            <style>\n",
              "                .geemap-dark {\n",
              "                    --jp-widgets-color: white;\n",
              "                    --jp-widgets-label-color: white;\n",
              "                    --jp-ui-font-color1: white;\n",
              "                    --jp-layout-color2: #454545;\n",
              "                    background-color: #383838;\n",
              "                }\n",
              "                    \n",
              "                .geemap-dark .jupyter-button {\n",
              "                    --jp-layout-color3: #383838;\n",
              "                }\n",
              "                \n",
              "                .geemap-colab {\n",
              "                    background-color: var(--colab-primary-surface-color, white);\n",
              "                }\n",
              "                    \n",
              "                .geemap-colab .jupyter-button {\n",
              "                    --jp-layout-color3: var(--colab-primary-surface-color, white);\n",
              "                }\n",
              "            </style>\n",
              "            "
            ]
          },
          "metadata": {}
        },
        {
          "output_type": "stream",
          "name": "stdout",
          "text": [
            "Generating URL ...\n",
            "Downloading data from https://earthengine.googleapis.com/v1/projects/earthengine-legacy/thumbnails/8316d3494924b63587541b7bd745aeaf-af9f3a7bf2a63993e881eb6d24f5c246:getPixels\n",
            "Please wait ...\n",
            "Data downloaded to /content/drive/MyDrive/ERA_monthly_normals/Normal_1.tif\n",
            "Exported Normal_1.tif\n",
            "Generating URL ...\n",
            "Downloading data from https://earthengine.googleapis.com/v1/projects/earthengine-legacy/thumbnails/dacdefdd6ad65752059f3480f8beeb7a-cadcc98b7f1a98a33776fa1316a3ec12:getPixels\n",
            "Please wait ...\n",
            "Data downloaded to /content/drive/MyDrive/ERA_monthly_normals/Normal_2.tif\n",
            "Exported Normal_2.tif\n",
            "Generating URL ...\n",
            "Downloading data from https://earthengine.googleapis.com/v1/projects/earthengine-legacy/thumbnails/2c7d59b052cdba810352f0ee66e91c7b-756d5c9f77e6d9945e47676e76c59cca:getPixels\n",
            "Please wait ...\n",
            "Data downloaded to /content/drive/MyDrive/ERA_monthly_normals/Normal_3.tif\n",
            "Exported Normal_3.tif\n",
            "Generating URL ...\n",
            "Downloading data from https://earthengine.googleapis.com/v1/projects/earthengine-legacy/thumbnails/cee05f542324fa45cddeb6a133ad885f-0db999170859bef59fb73f507d9ac5d3:getPixels\n",
            "Please wait ...\n",
            "Data downloaded to /content/drive/MyDrive/ERA_monthly_normals/Normal_4.tif\n",
            "Exported Normal_4.tif\n",
            "Generating URL ...\n",
            "Downloading data from https://earthengine.googleapis.com/v1/projects/earthengine-legacy/thumbnails/08779113b961aa0a045fe43e9773fef1-749dc31b3abb235aa8429f4fa6874ce0:getPixels\n",
            "Please wait ...\n",
            "Data downloaded to /content/drive/MyDrive/ERA_monthly_normals/Normal_5.tif\n",
            "Exported Normal_5.tif\n",
            "Generating URL ...\n",
            "Downloading data from https://earthengine.googleapis.com/v1/projects/earthengine-legacy/thumbnails/bff27685c6662a3aac101aec20c00416-df85a357d2fe517fae17e57bbc21c719:getPixels\n",
            "Please wait ...\n",
            "Data downloaded to /content/drive/MyDrive/ERA_monthly_normals/Normal_6.tif\n",
            "Exported Normal_6.tif\n",
            "Generating URL ...\n",
            "Downloading data from https://earthengine.googleapis.com/v1/projects/earthengine-legacy/thumbnails/1c7865d14a715f1d0a985bdc0c17bdc5-4f337f756badce76e766087ea343bd36:getPixels\n",
            "Please wait ...\n",
            "Data downloaded to /content/drive/MyDrive/ERA_monthly_normals/Normal_7.tif\n",
            "Exported Normal_7.tif\n",
            "Generating URL ...\n",
            "Downloading data from https://earthengine.googleapis.com/v1/projects/earthengine-legacy/thumbnails/d22bff288d906fe1e5224e05aadc29b0-0ab9836a899f6d3ce986cd4f473b38fb:getPixels\n",
            "Please wait ...\n",
            "Data downloaded to /content/drive/MyDrive/ERA_monthly_normals/Normal_8.tif\n",
            "Exported Normal_8.tif\n",
            "Generating URL ...\n",
            "Downloading data from https://earthengine.googleapis.com/v1/projects/earthengine-legacy/thumbnails/a48066b209d568307e7a8b694907bf0c-b149a2cc91836afb55b28db3b05f0303:getPixels\n",
            "Please wait ...\n",
            "Data downloaded to /content/drive/MyDrive/ERA_monthly_normals/Normal_9.tif\n",
            "Exported Normal_9.tif\n",
            "Generating URL ...\n",
            "Downloading data from https://earthengine.googleapis.com/v1/projects/earthengine-legacy/thumbnails/fd17f26fe875f4d92562af0d721d43b1-5a0071db030a2a057c35cbeb23748198:getPixels\n",
            "Please wait ...\n",
            "Data downloaded to /content/drive/MyDrive/ERA_monthly_normals/Normal_10.tif\n",
            "Exported Normal_10.tif\n",
            "Generating URL ...\n",
            "Downloading data from https://earthengine.googleapis.com/v1/projects/earthengine-legacy/thumbnails/3a2e21581f5c585481b85de1bcb6c335-a42c33159d47a8e1ab3835cf9c983923:getPixels\n",
            "Please wait ...\n",
            "Data downloaded to /content/drive/MyDrive/ERA_monthly_normals/Normal_11.tif\n",
            "Exported Normal_11.tif\n",
            "Generating URL ...\n",
            "Downloading data from https://earthengine.googleapis.com/v1/projects/earthengine-legacy/thumbnails/9f7431535e1f488ce66bea461cd24049-e0a2fe2e9b9c83a25f8a9155c0d5fc01:getPixels\n",
            "Please wait ...\n",
            "Data downloaded to /content/drive/MyDrive/ERA_monthly_normals/Normal_12.tif\n",
            "Exported Normal_12.tif\n",
            "Exported files: ['/content/drive/MyDrive/ERA_monthly_normals/Normal_1.tif', '/content/drive/MyDrive/ERA_monthly_normals/Normal_2.tif', '/content/drive/MyDrive/ERA_monthly_normals/Normal_3.tif', '/content/drive/MyDrive/ERA_monthly_normals/Normal_4.tif', '/content/drive/MyDrive/ERA_monthly_normals/Normal_5.tif', '/content/drive/MyDrive/ERA_monthly_normals/Normal_6.tif', '/content/drive/MyDrive/ERA_monthly_normals/Normal_7.tif', '/content/drive/MyDrive/ERA_monthly_normals/Normal_8.tif', '/content/drive/MyDrive/ERA_monthly_normals/Normal_9.tif', '/content/drive/MyDrive/ERA_monthly_normals/Normal_10.tif', '/content/drive/MyDrive/ERA_monthly_normals/Normal_11.tif', '/content/drive/MyDrive/ERA_monthly_normals/Normal_12.tif']\n"
          ]
        }
      ]
    }
  ]
}